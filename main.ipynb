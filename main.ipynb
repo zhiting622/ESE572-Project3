{
 "cells": [
  {
   "cell_type": "code",
   "execution_count": 188,
   "metadata": {},
   "outputs": [],
   "source": [
    "import math\n",
    "import random\n",
    "import numpy as np"
   ]
  },
  {
   "cell_type": "code",
   "execution_count": 189,
   "metadata": {},
   "outputs": [],
   "source": [
    "# initialization\n",
    "t = 0 # time step\n",
    "m = 5 # number of nodes\n",
    "r = 0.2 # poisson process rate lambda/m\n",
    "rp = 0.2 # retransmission probability"
   ]
  },
  {
   "cell_type": "code",
   "execution_count": 190,
   "metadata": {},
   "outputs": [],
   "source": [
    "def poisson_process(rate):\n",
    "    p_0_arrive = math.exp(-1*rate)\n",
    "    p_1_arrive = math.exp(-1*rate) * rate \n",
    "    \n",
    "    result = -1\n",
    "    \n",
    "    p = random.random()\n",
    "    if p < p_0_arrive:\n",
    "        result = 0 # no packet was transmitted\n",
    "    elif p < (p_0_arrive+p_1_arrive):\n",
    "        result = 1 # one packet was transmitted\n",
    "    else: \n",
    "        result = math.e # more than one packets were transmitted\n",
    "        \n",
    "    return result"
   ]
  },
  {
   "cell_type": "code",
   "execution_count": 191,
   "metadata": {},
   "outputs": [],
   "source": [
    "def retransmission(retrans_rate):\n",
    "    p = random.random()\n",
    "    result = -1 # assume the node is still backlogged\n",
    "    # if we are in the success region of retransmission rate \n",
    "    if p < retrans_rate: \n",
    "        result = 1 # then transmit\n",
    "    return result"
   ]
  },
  {
   "cell_type": "code",
   "execution_count": 192,
   "metadata": {},
   "outputs": [],
   "source": [
    "def update_status(node, channel_status):\n",
    "    result = -1\n",
    "    if channel_status == 0 or channel_status == 1: # if the channel is not in a collision\n",
    "        if node == 0 or node == 1 : # the node transmitted 0 or 1 packet in the previous time unit\n",
    "            # (and it was not pending for retransmission)\n",
    "            # which means it is ready to transmit this time\n",
    "            result = poisson_process(r) # determine how many packets to be transmitted this time\n",
    "        else: # if the node is backlogged and wait for retransmission\n",
    "            result = retransmission(rp)\n",
    "\n",
    "    else: # if the channel is in a collision\n",
    "        if node == 0: # if the node didn't try to send a packet\n",
    "            result = 0 # no new arrivals\n",
    "        else: # node is -1, 1, or e, the node had something to be sent\n",
    "            result = retransmission(rp) # determine if it will be retransmitted\n",
    "    return result\n",
    "        "
   ]
  },
  {
   "cell_type": "markdown",
   "metadata": {},
   "source": [
    "For the node status:\n",
    "* 0 means no packet sending this time unit\n",
    "* 1 means one packet sending this time unit\n",
    "* e means multiple packets sending this time unit\n",
    "* -1 means backlogged and wait for retransmission"
   ]
  },
  {
   "cell_type": "code",
   "execution_count": 193,
   "metadata": {},
   "outputs": [
    {
     "name": "stdout",
     "output_type": "stream",
     "text": [
      "[0, 0, 0, 0, 0]\n",
      "[1, 0, 0, 0, 0]\n",
      "[0, 0, 0, 0, 0]\n",
      "[1, 0, 0, 0, 0]\n",
      "[0, 1, 2.718281828459045, 0, 1]\n",
      "[0, -1, -1, 0, -1]\n",
      "[0, -1, 1, 0, -1]\n",
      "[1, -1, 0, 1, -1]\n",
      "[-1, -1, 0, 1, -1]\n",
      "[-1, -1, 0, 0, -1]\n"
     ]
    }
   ],
   "source": [
    "random.seed(0)\n",
    "stop = 10 # what time step to stop\n",
    "nodes_status = [0]*m # -1 means pending for transmission\n",
    "time_node_status = [[-1]*m]*stop # used to keep track of the nodes status each time\n",
    "time_channel_status = [-1] * stop # used to keep track of the channel status each time\n",
    "while t < stop:\n",
    "    nodes_status = [update_status(node, channel_status) for node in nodes_status]\n",
    "    print(nodes_status)\n",
    "    \n",
    "    channel_status = -1 # keep track of current channel\n",
    "    if nodes_status.count(math.e) > 0 or nodes_status.count(1) > 1:\n",
    "        # if a node already sent multiple packets or multiple nodes sent packets\n",
    "        channel_status = math.e\n",
    "    elif nodes_status.count(1) == 1:\n",
    "        # only one node sent one packet\n",
    "        channel_status = 1\n",
    "    else: \n",
    "        # no node sent anything\n",
    "        channel_status = 0\n",
    "        \n",
    "    time_node_status[t] = nodes_status # keep track of node status\n",
    "    time_channel_status[t] = channel_status # keep track of channel status\n",
    "    t += 1 # increment time step"
   ]
  },
  {
   "cell_type": "code",
   "execution_count": 195,
   "metadata": {},
   "outputs": [
    {
     "data": {
      "text/plain": [
       "[0, 1, 0, 1, 2.718281828459045, 0, 1, 2.718281828459045, 1, 0]"
      ]
     },
     "execution_count": 195,
     "metadata": {},
     "output_type": "execute_result"
    }
   ],
   "source": [
    "time_node_status\n",
    "time_channel_status"
   ]
  }
 ],
 "metadata": {
  "kernelspec": {
   "display_name": "Python 3",
   "language": "python",
   "name": "python3"
  },
  "language_info": {
   "codemirror_mode": {
    "name": "ipython",
    "version": 3
   },
   "file_extension": ".py",
   "mimetype": "text/x-python",
   "name": "python",
   "nbconvert_exporter": "python",
   "pygments_lexer": "ipython3",
   "version": "3.10.4"
  }
 },
 "nbformat": 4,
 "nbformat_minor": 2
}
